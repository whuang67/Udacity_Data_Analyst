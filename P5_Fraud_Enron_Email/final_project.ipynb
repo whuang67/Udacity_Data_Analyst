{
 "cells": [
  {
   "cell_type": "markdown",
   "metadata": {},
   "source": [
    "# Project: Identify Fraud from Enron Email\n",
    "## 1. Introduction\n",
    "\n",
    "In 2000, Enron was one of the largest companies in the United States. By 2002, it had collapsed into bankruptcy due to widespread corporate fraud. In the resulting Federal investigation, a significant amount of typically confidential information entered into the public record, including tens of thousands of emails and detailed financial data for top executives. In this project, we would like to build a person of interest identifier based on financial and email data. The machine learning algorithms that we are about to use include `Naive Bayes`, `Decision Tree` and `K Nearest Neighbors`.\n",
    "\n",
    "## 2. Data Exploration\n",
    "\n",
    "### 2.1 Outlier\n",
    "When we look at the dataset, we can notice that there is one observation that is recorded with the name `TOTAL`. Obviously, it is the total value of every other observation that is from this dataset. Due to the influence of this outlier point and the fact that we only have a limited amount of points in our dataset, we would like to remove and only remove this point."
   ]
  },
  {
   "cell_type": "code",
   "execution_count": 1,
   "metadata": {},
   "outputs": [
    {
     "name": "stdout",
     "output_type": "stream",
     "text": [
      "Observation numbers (including 'TOTAL'): 146, Variable numbers: 20\n",
      "\n",
      "Detailed information of TOTAL (outlier):\n",
      "{'salary': 26704229, 'to_messages': 'NaN', 'deferral_payments': 32083396, 'total_payments': 309886585, 'exercised_stock_options': 311764000, 'bonus': 97343619, 'restricted_stock': 130322299, 'shared_receipt_with_poi': 'NaN', 'restricted_stock_deferred': -7576788, 'total_stock_value': 434509511, 'expenses': 5235198, 'loan_advances': 83925000, 'from_messages': 'NaN', 'other': 42667589, 'from_this_person_to_poi': 'NaN', 'poi': False, 'director_fees': 1398517, 'deferred_income': -27992891, 'long_term_incentive': 48521928, 'email_address': 'NaN', 'from_poi_to_this_person': 'NaN'}\n",
      "\n",
      "Observation numbers (excluding 'TOTAL'): 145, Variable numbers: 20\n"
     ]
    },
    {
     "name": "stderr",
     "output_type": "stream",
     "text": [
      "C:\\Users\\whuang67\\Anaconda2\\lib\\site-packages\\sklearn\\cross_validation.py:44: DeprecationWarning: This module was deprecated in version 0.18 in favor of the model_selection module into which all the refactored classes and functions are moved. Also note that the interface of the new CV iterators are different from that of this module. This module will be removed in 0.20.\n",
      "  \"This module will be removed in 0.20.\", DeprecationWarning)\n"
     ]
    }
   ],
   "source": [
    "import sys\n",
    "import pickle\n",
    "import numpy as np\n",
    "import pandas as pd\n",
    "from IPython.display import display\n",
    "\n",
    "sys.path.append(\"../tools/\")\n",
    "\n",
    "from feature_format import featureFormat, targetFeatureSplit\n",
    "from tester import dump_classifier_and_data, test_classifier\n",
    "\n",
    "total_features = ['poi', 'salary', 'to_messages', 'deferral_payments', 'total_payments', 'exercised_stock_options', 'bonus',\n",
    "                  'restricted_stock', 'shared_receipt_with_poi', 'restricted_stock_deferred', 'total_stock_value', 'expenses',\n",
    "                  'loan_advances', 'from_messages', 'other', 'from_this_person_to_poi', 'director_fees',\n",
    "                  'deferred_income', 'long_term_incentive', 'from_poi_to_this_person'] # email_address\n",
    "\n",
    "with open(\"final_project_dataset.pkl\", \"r\") as data_file:\n",
    "    data_dict = pickle.load(data_file)\n",
    "\n",
    "print \"Observation numbers (including 'TOTAL'): {}, Variable numbers: {}\\n\".format(\n",
    "  len(data_dict), len(data_dict[\"MEYER ROCKFORD G\"])-1)\n",
    "print \"Detailed information of TOTAL (outlier):\"\n",
    "\n",
    "print data_dict[\"TOTAL\"]\n",
    "del data_dict[\"TOTAL\"]\n",
    "print \"\\nObservation numbers (excluding 'TOTAL'): {}, Variable numbers: {}\".format(\n",
    "  len(data_dict), len(data_dict[\"MEYER ROCKFORD G\"])-1)"
   ]
  },
  {
   "cell_type": "markdown",
   "metadata": {},
   "source": [
    "After we removed the data, there are 145 observations and 20 variables (excluding variable `poi`) in our dataset. We notice that variable `email_address` is like the name (index) of each observation which can be also considered as primary key here. Hence, we will not take this one into consideration.\n",
    "\n",
    "### 2.2 Dataset and Missing values\n",
    "\n",
    "By default, the missing values here would be converted to 0, which may be a little confusing because we cannot tell which are missing values and which really stand for value 0. Hence, we would like to keep `nan` at the beginning and find out the discriptive statistics of our dataset."
   ]
  },
  {
   "cell_type": "code",
   "execution_count": 2,
   "metadata": {},
   "outputs": [
    {
     "name": "stdout",
     "output_type": "stream",
     "text": [
      "poi == 0: 127, poi == 1: 18\n"
     ]
    }
   ],
   "source": [
    "my_dataset = data_dict\n",
    "data = featureFormat(my_dataset, total_features, remove_NaN = False, remove_all_zeroes = False, sort_keys = True)\n",
    "\n",
    "poi_counts = pd.Series(data[:, 0]).value_counts()\n",
    "print \"poi == 0: {}, poi == 1: {}\".format(poi_counts[0], poi_counts[1])"
   ]
  },
  {
   "cell_type": "markdown",
   "metadata": {},
   "source": [
    "For our response variable `poi`, 127 values of the total 145 are 0 while the rest 18 are 1. Clearly, we can read that this is a imbalanced distribution. I think that the metric `accuracy` here is absolutely not a very good metric in this classification problem. Because we can just easily build a benchmark model which says `poi` of everything is 0. And under this situation, our `accuracy` will still be 87.59% which is still impressive. Detailed discussion on metric selection will be talked about later.\n",
    "\n",
    "In addition to this, we also would like to calculate the proportion of actual of missing values. The table below shows the proportions of missing values and zero values of different predictor variables."
   ]
  },
  {
   "cell_type": "code",
   "execution_count": 3,
   "metadata": {},
   "outputs": [
    {
     "data": {
      "text/html": [
       "<div>\n",
       "<style>\n",
       "    .dataframe thead tr:only-child th {\n",
       "        text-align: right;\n",
       "    }\n",
       "\n",
       "    .dataframe thead th {\n",
       "        text-align: left;\n",
       "    }\n",
       "\n",
       "    .dataframe tbody tr th {\n",
       "        vertical-align: top;\n",
       "    }\n",
       "</style>\n",
       "<table border=\"1\" class=\"dataframe\">\n",
       "  <thead>\n",
       "    <tr style=\"text-align: right;\">\n",
       "      <th></th>\n",
       "      <th>Proportion of NaN</th>\n",
       "      <th>Proportion of Zero</th>\n",
       "    </tr>\n",
       "  </thead>\n",
       "  <tbody>\n",
       "    <tr>\n",
       "      <th>salary</th>\n",
       "      <td>0.351724</td>\n",
       "      <td>0.000000</td>\n",
       "    </tr>\n",
       "    <tr>\n",
       "      <th>to_messages</th>\n",
       "      <td>0.406897</td>\n",
       "      <td>0.000000</td>\n",
       "    </tr>\n",
       "    <tr>\n",
       "      <th>deferral_payments</th>\n",
       "      <td>0.737931</td>\n",
       "      <td>0.000000</td>\n",
       "    </tr>\n",
       "    <tr>\n",
       "      <th>total_payments</th>\n",
       "      <td>0.144828</td>\n",
       "      <td>0.000000</td>\n",
       "    </tr>\n",
       "    <tr>\n",
       "      <th>exercised_stock_options</th>\n",
       "      <td>0.303448</td>\n",
       "      <td>0.000000</td>\n",
       "    </tr>\n",
       "    <tr>\n",
       "      <th>bonus</th>\n",
       "      <td>0.441379</td>\n",
       "      <td>0.000000</td>\n",
       "    </tr>\n",
       "    <tr>\n",
       "      <th>restricted_stock</th>\n",
       "      <td>0.248276</td>\n",
       "      <td>0.000000</td>\n",
       "    </tr>\n",
       "    <tr>\n",
       "      <th>shared_receipt_with_poi</th>\n",
       "      <td>0.406897</td>\n",
       "      <td>0.000000</td>\n",
       "    </tr>\n",
       "    <tr>\n",
       "      <th>restricted_stock_deferred</th>\n",
       "      <td>0.882759</td>\n",
       "      <td>0.000000</td>\n",
       "    </tr>\n",
       "    <tr>\n",
       "      <th>total_stock_value</th>\n",
       "      <td>0.137931</td>\n",
       "      <td>0.000000</td>\n",
       "    </tr>\n",
       "    <tr>\n",
       "      <th>expenses</th>\n",
       "      <td>0.351724</td>\n",
       "      <td>0.000000</td>\n",
       "    </tr>\n",
       "    <tr>\n",
       "      <th>loan_advances</th>\n",
       "      <td>0.979310</td>\n",
       "      <td>0.000000</td>\n",
       "    </tr>\n",
       "    <tr>\n",
       "      <th>from_messages</th>\n",
       "      <td>0.406897</td>\n",
       "      <td>0.000000</td>\n",
       "    </tr>\n",
       "    <tr>\n",
       "      <th>other</th>\n",
       "      <td>0.365517</td>\n",
       "      <td>0.000000</td>\n",
       "    </tr>\n",
       "    <tr>\n",
       "      <th>from_this_person_to_poi</th>\n",
       "      <td>0.406897</td>\n",
       "      <td>0.137931</td>\n",
       "    </tr>\n",
       "    <tr>\n",
       "      <th>director_fees</th>\n",
       "      <td>0.889655</td>\n",
       "      <td>0.000000</td>\n",
       "    </tr>\n",
       "    <tr>\n",
       "      <th>deferred_income</th>\n",
       "      <td>0.668966</td>\n",
       "      <td>0.000000</td>\n",
       "    </tr>\n",
       "    <tr>\n",
       "      <th>long_term_incentive</th>\n",
       "      <td>0.551724</td>\n",
       "      <td>0.000000</td>\n",
       "    </tr>\n",
       "    <tr>\n",
       "      <th>from_poi_to_this_person</th>\n",
       "      <td>0.406897</td>\n",
       "      <td>0.082759</td>\n",
       "    </tr>\n",
       "  </tbody>\n",
       "</table>\n",
       "</div>"
      ],
      "text/plain": [
       "                           Proportion of NaN  Proportion of Zero\n",
       "salary                              0.351724            0.000000\n",
       "to_messages                         0.406897            0.000000\n",
       "deferral_payments                   0.737931            0.000000\n",
       "total_payments                      0.144828            0.000000\n",
       "exercised_stock_options             0.303448            0.000000\n",
       "bonus                               0.441379            0.000000\n",
       "restricted_stock                    0.248276            0.000000\n",
       "shared_receipt_with_poi             0.406897            0.000000\n",
       "restricted_stock_deferred           0.882759            0.000000\n",
       "total_stock_value                   0.137931            0.000000\n",
       "expenses                            0.351724            0.000000\n",
       "loan_advances                       0.979310            0.000000\n",
       "from_messages                       0.406897            0.000000\n",
       "other                               0.365517            0.000000\n",
       "from_this_person_to_poi             0.406897            0.137931\n",
       "director_fees                       0.889655            0.000000\n",
       "deferred_income                     0.668966            0.000000\n",
       "long_term_incentive                 0.551724            0.000000\n",
       "from_poi_to_this_person             0.406897            0.082759"
      ]
     },
     "metadata": {},
     "output_type": "display_data"
    }
   ],
   "source": [
    "count, count_1 = [], []\n",
    "for i in range(1, len(data[0])):\n",
    "    t = float(sum(np.isnan(data[:, i])))/len(data)\n",
    "    t_1 = float(sum(data[:, i] == 0))/len(data)\n",
    "    count.append(t)\n",
    "    count_1.append(t_1)\n",
    "\n",
    "total_predictors = ['salary', 'to_messages', 'deferral_payments', 'total_payments', 'exercised_stock_options', 'bonus',\n",
    "                    'restricted_stock', 'shared_receipt_with_poi', 'restricted_stock_deferred', 'total_stock_value',\n",
    "                    'expenses', 'loan_advances', 'from_messages', 'other', 'from_this_person_to_poi', 'director_fees',\n",
    "                    'deferred_income', 'long_term_incentive', 'from_poi_to_this_person'] # email_address\n",
    "\n",
    "display(pd.DataFrame(np.array([count, count_1]),\n",
    "                     columns = total_predictors,\n",
    "                     index = [\"Proportion of NaN\", \"Proportion of Zero\"]).transpose())"
   ]
  },
  {
   "cell_type": "markdown",
   "metadata": {},
   "source": [
    "The table above clearly shows that there are very few variables which contain 0 values, but the proportions of missing values seem to be a little bit out of control. Here, we would like to keep focusing on those variables with proportions of missing values less than 0.5, which are **salary**, **to_messages**, **total_payments**, **exercised_stock_options**, **bonus**, **restricted_stock**, **shared_receipt_with_poi**, **total_stock_value**, **expenses**, **from_messages**, **other**, **from_this_person_to_poi** and **from_poi_to_this_person** 14 variables in total.\n",
    "\n",
    "Following the source code offered by Udacity, we assume that those missing values of these 14 variables are actually value 0 and would like to convert them to value 0 here. Actually, there are some other ways to impute the missing values. For example, we can replace them with the corresponding mean or median, which will keep the central tendency of the variables with missing values."
   ]
  },
  {
   "cell_type": "code",
   "execution_count": 4,
   "metadata": {},
   "outputs": [],
   "source": [
    "total_features = ['poi', 'salary', 'to_messages', 'total_payments', 'exercised_stock_options', 'bonus',\n",
    "                  'restricted_stock', 'shared_receipt_with_poi', 'total_stock_value', 'expenses', 'from_messages', 'other',\n",
    "                  'from_this_person_to_poi', 'from_poi_to_this_person']\n",
    "total_predictors = ['salary', 'to_messages', 'total_payments', 'exercised_stock_options', 'bonus',\n",
    "                    'restricted_stock', 'shared_receipt_with_poi', 'total_stock_value', 'expenses', 'from_messages', 'other',\n",
    "                    'from_this_person_to_poi', 'from_poi_to_this_person']\n",
    "\n",
    "data = featureFormat(my_dataset, total_features, remove_all_zeroes = False, sort_keys = True)"
   ]
  },
  {
   "cell_type": "markdown",
   "metadata": {},
   "source": [
    "### 2.3 New Features\n",
    "\n",
    "Even though the outliers were removed, the variables here still keep their original skewness trend unfortunately. The variable `total_stock_value` especially gets our eyeballs because of its negative skewness. We may think if we would create a new feature by performing variable transformation, and our new feature may have a symmetric or even normal distribution. The forluma that we are about to use is:\n",
    "\n",
    "$$NewVar = \\ln{(OldVar - min(OldVar) + 1)}$$\n",
    "\n",
    "where `NewVar` and `OldVar` stands for the variables before and after being transformed, respectively. And `min()` here stands for the mininum value of this variable. The reason that we included so many terms in the parentheses is just to make sure that our logarithm transformation is meaningful."
   ]
  },
  {
   "cell_type": "code",
   "execution_count": 5,
   "metadata": {},
   "outputs": [
    {
     "data": {
      "image/png": "[encoded data removed]",
      "text/plain": [
       "<matplotlib.figure.Figure at 0x9b4dda0>"
      ]
     },
     "metadata": {},
     "output_type": "display_data"
    },
    {
     "data": {
      "image/png": "[encoded data removed]",
      "text/plain": [
       "<matplotlib.figure.Figure at 0xc3e85f8>"
      ]
     },
     "metadata": {},
     "output_type": "display_data"
    }
   ],
   "source": [
    "import seaborn as sns\n",
    "import matplotlib.pyplot as plt\n",
    "sns.distplot(data[:, 8])\n",
    "sns.plt.title(\"Distribution of Old Feature\")\n",
    "plt.show()\n",
    "x = np.log(data[:, 8] - min(data[:, 8]) + 1)\n",
    "sns.distplot(x)\n",
    "sns.plt.title(\"Distribution of New Feature\")\n",
    "plt.show()"
   ]
  },
  {
   "cell_type": "markdown",
   "metadata": {},
   "source": [
    "The distributions of both variable `total_stock_value` and that after transformation are shown above. It looks like the distribution of the old variable is positively skewed while the transformed one may follow normal distribution. In the following parts, we will try to include both the original variable `total_stock_value` and the one after being transformed in our model.\n",
    "\n",
    "### 2.4 Feature Selection\n",
    "\n",
    "We have 14 variables and another one that we just created in hand, but I would like to use a subset of them. Because more features and complicated models may lead to over-fitting with good training performance but unsatisfactory testing performance. The variable importance of Decision Tree Algorithm is used here.\n",
    "\n",
    "Two models will be drawn here, one of which contains the new feature that we just created while the other one will not include it. We would like to see if the results of two variable lists may lead to different results.\n",
    "\n",
    "Additionally, we can see that different variables have different ranges. For example, variable `salary` varies from 0 to 1,000,000 but variable `to_messages` ranges from 0 to 5,000 only. I would also like to perform z-score transformation to scale all variables before we move on to the modle fitting part."
   ]
  },
  {
   "cell_type": "code",
   "execution_count": 6,
   "metadata": {},
   "outputs": [
    {
     "data": {
      "image/png": "[encoded data removed]",
      "text/plain": [
       "<matplotlib.figure.Figure at 0xce4af98>"
      ]
     },
     "metadata": {},
     "output_type": "display_data"
    },
    {
     "data": {
      "image/png": "[encoded data removed]",
      "text/plain": [
       "<matplotlib.figure.Figure at 0xcc9bcf8>"
      ]
     },
     "metadata": {},
     "output_type": "display_data"
    }
   ],
   "source": [
    "labels, features = targetFeatureSplit(data)\n",
    "features_ = [np.append(e, f) for e, f in zip(features, x)]\n",
    "# features_ = np.append(features, x, axis = 0)\n",
    "from sklearn.tree import DecisionTreeClassifier\n",
    "from sklearn.preprocessing import StandardScaler\n",
    "features_ = StandardScaler().fit_transform(features_)\n",
    "features = StandardScaler().fit_transform(features)\n",
    "\n",
    "clf_1 = DecisionTreeClassifier(random_state = 42).fit(features_, labels)\n",
    "plt.barh(range(len(clf_1.feature_importances_)), clf_1.feature_importances_)\n",
    "total_predictors.append(\"NewVariable\")\n",
    "plt.yticks(range(len(clf_1.feature_importances_)), total_predictors)\n",
    "plt.title(\"Variable Importance Plot (with NewVariable)\"); plt.xlabel(\"Variable Importances\"); plt.ylabel(\"Features\")\n",
    "plt.show()\n",
    "\n",
    "clf_2 = DecisionTreeClassifier(random_state = 42).fit(features, labels)\n",
    "plt.barh(range(len(clf_2.feature_importances_)), clf_2.feature_importances_)\n",
    "total_predictors.append(\"NewVariable\")\n",
    "plt.yticks(range(len(clf_2.feature_importances_)), total_predictors)\n",
    "plt.title(\"Variable Importance Plot (without NewVariable)\"); plt.xlabel(\"Variable Importances\"); plt.ylabel(\"Features\")\n",
    "plt.show()"
   ]
  },
  {
   "cell_type": "markdown",
   "metadata": {},
   "source": [
    "From the two plots above, we can clearly tell that different variables tend to make different contributions. Apart from variable `long_term_incentive`, all other variables are having similar variable importance values and the rank of each variables tend to be the same. We found out the actually only 8 out of the rest 13 predictors excluding `long_term_incentive` that we include that have positive variable importance value.\n",
    "\n",
    "- Hence, I would like to start from the variable `total_payments` only which has the largest variable importance. Decision Tree and test_classifier() function will be used to help us test.\n",
    "- Then, I will add the predictor with next second largest variable importance value, fit another `Decision Tree` model and calculate the test_classifier() performance of it.\n",
    "- We will keep repeating the previous part until all variables with positive variable importances are included in the model.\n",
    "- The model with the best performance will be chosen. We will use the corresponding variable list to fit additional models.\n",
    "\n",
    "Especially, we notice that our **new feature** has zero contribution to our model only. Hence, we would not like to consider our new feature any more in order to have a better performance.\n",
    "\n",
    "We will mainly focus on precision and recall here. The model with highest precision and recall will be chosen. We will use those variables to try additional algorithms to see if we can have better performances. If it is hard to make decision based on precision and recall, we will choose the one with higher overall accuracy.\n",
    "\n",
    "$$Precision = \\displaystyle{\\frac{TP}{TP+FP}}$$  \n",
    "$$Recall = \\displaystyle{\\frac{TP}{TP+FN}}$$  \n",
    "$$Accuarcy = \\displaystyle{\\frac{TP+TN}{TP+TN+FP+FN}}$$  \n",
    "where TP stands for True Positive, FP stands for False Positive, TN stands for True Negative and FN stands for False Negative. As we mentioned above, this is not a balanced classification problem because 117 out of 131 points have the `poi` being 0 while the rest 14 points are 1. Based on the formulas of `Precision` and `Recall` above, we can read that these two are good measures of the proportion of how many selected items are relevant and how many relevant items are selected, respectively (from wikipedia). If we only focus on accuracy only, the large number of True Negative predictions will seriously influence our judgement."
   ]
  },
  {
   "cell_type": "code",
   "execution_count": 7,
   "metadata": {},
   "outputs": [
    {
     "name": "stdout",
     "output_type": "stream",
     "text": [
      "DecisionTreeClassifier(class_weight=None, criterion='gini', max_depth=None,\n",
      "            max_features=None, max_leaf_nodes=None,\n",
      "            min_impurity_split=1e-07, min_samples_leaf=1,\n",
      "            min_samples_split=2, min_weight_fraction_leaf=0.0,\n",
      "            presort=False, random_state=42, splitter='best')\n",
      "\tAccuracy: 0.86273\tPrecision: 0.27434\tRecall: 0.31000\tF1: 0.29108\tF2: 0.30214\n",
      "\tTotal predictions: 11000\tTrue positives:  310\tFalse positives:  820\tFalse negatives:  690\tTrue negatives: 9180\n",
      "\n",
      "None\n",
      "DecisionTreeClassifier(class_weight=None, criterion='gini', max_depth=None,\n",
      "            max_features=None, max_leaf_nodes=None,\n",
      "            min_impurity_split=1e-07, min_samples_leaf=1,\n",
      "            min_samples_split=2, min_weight_fraction_leaf=0.0,\n",
      "            presort=False, random_state=42, splitter='best')\n",
      "\tAccuracy: 0.78569\tPrecision: 0.31772\tRecall: 0.34250\tF1: 0.32964\tF2: 0.33724\n",
      "\tTotal predictions: 13000\tTrue positives:  685\tFalse positives: 1471\tFalse negatives: 1315\tTrue negatives: 9529\n",
      "\n",
      "None\n",
      "DecisionTreeClassifier(class_weight=None, criterion='gini', max_depth=None,\n",
      "            max_features=None, max_leaf_nodes=None,\n",
      "            min_impurity_split=1e-07, min_samples_leaf=1,\n",
      "            min_samples_split=2, min_weight_fraction_leaf=0.0,\n",
      "            presort=False, random_state=42, splitter='best')\n",
      "\tAccuracy: 0.80607\tPrecision: 0.32854\tRecall: 0.34250\tF1: 0.33537\tF2: 0.33961\n",
      "\tTotal predictions: 14000\tTrue positives:  685\tFalse positives: 1400\tFalse negatives: 1315\tTrue negatives: 10600\n",
      "\n",
      "None\n",
      "DecisionTreeClassifier(class_weight=None, criterion='gini', max_depth=None,\n",
      "            max_features=None, max_leaf_nodes=None,\n",
      "            min_impurity_split=1e-07, min_samples_leaf=1,\n",
      "            min_samples_split=2, min_weight_fraction_leaf=0.0,\n",
      "            presort=False, random_state=42, splitter='best')\n",
      "\tAccuracy: 0.81033\tPrecision: 0.30769\tRecall: 0.33800\tF1: 0.32213\tF2: 0.33147\n",
      "\tTotal predictions: 15000\tTrue positives:  676\tFalse positives: 1521\tFalse negatives: 1324\tTrue negatives: 11479\n",
      "\n",
      "None\n",
      "DecisionTreeClassifier(class_weight=None, criterion='gini', max_depth=None,\n",
      "            max_features=None, max_leaf_nodes=None,\n",
      "            min_impurity_split=1e-07, min_samples_leaf=1,\n",
      "            min_samples_split=2, min_weight_fraction_leaf=0.0,\n",
      "            presort=False, random_state=42, splitter='best')\n",
      "\tAccuracy: 0.81980\tPrecision: 0.33365\tRecall: 0.35250\tF1: 0.34282\tF2: 0.34856\n",
      "\tTotal predictions: 15000\tTrue positives:  705\tFalse positives: 1408\tFalse negatives: 1295\tTrue negatives: 11592\n",
      "\n",
      "None\n",
      "DecisionTreeClassifier(class_weight=None, criterion='gini', max_depth=None,\n",
      "            max_features=None, max_leaf_nodes=None,\n",
      "            min_impurity_split=1e-07, min_samples_leaf=1,\n",
      "            min_samples_split=2, min_weight_fraction_leaf=0.0,\n",
      "            presort=False, random_state=42, splitter='best')\n",
      "\tAccuracy: 0.80833\tPrecision: 0.28585\tRecall: 0.29200\tF1: 0.28889\tF2: 0.29075\n",
      "\tTotal predictions: 15000\tTrue positives:  584\tFalse positives: 1459\tFalse negatives: 1416\tTrue negatives: 11541\n",
      "\n",
      "None\n",
      "DecisionTreeClassifier(class_weight=None, criterion='gini', max_depth=None,\n",
      "            max_features=None, max_leaf_nodes=None,\n",
      "            min_impurity_split=1e-07, min_samples_leaf=1,\n",
      "            min_samples_split=2, min_weight_fraction_leaf=0.0,\n",
      "            presort=False, random_state=42, splitter='best')\n",
      "\tAccuracy: 0.80720\tPrecision: 0.25548\tRecall: 0.23300\tF1: 0.24372\tF2: 0.23717\n",
      "\tTotal predictions: 15000\tTrue positives:  466\tFalse positives: 1358\tFalse negatives: 1534\tTrue negatives: 11642\n",
      "\n",
      "None\n",
      "DecisionTreeClassifier(class_weight=None, criterion='gini', max_depth=None,\n",
      "            max_features=None, max_leaf_nodes=None,\n",
      "            min_impurity_split=1e-07, min_samples_leaf=1,\n",
      "            min_samples_split=2, min_weight_fraction_leaf=0.0,\n",
      "            presort=False, random_state=42, splitter='best')\n",
      "\tAccuracy: 0.81353\tPrecision: 0.28236\tRecall: 0.25850\tF1: 0.26990\tF2: 0.26294\n",
      "\tTotal predictions: 15000\tTrue positives:  517\tFalse positives: 1314\tFalse negatives: 1483\tTrue negatives: 11686\n",
      "\n",
      "None\n",
      "DecisionTreeClassifier(class_weight=None, criterion='gini', max_depth=None,\n",
      "            max_features=None, max_leaf_nodes=None,\n",
      "            min_impurity_split=1e-07, min_samples_leaf=1,\n",
      "            min_samples_split=2, min_weight_fraction_leaf=0.0,\n",
      "            presort=False, random_state=42, splitter='best')\n",
      "\tAccuracy: 0.81413\tPrecision: 0.27563\tRecall: 0.24200\tF1: 0.25772\tF2: 0.24805\n",
      "\tTotal predictions: 15000\tTrue positives:  484\tFalse positives: 1272\tFalse negatives: 1516\tTrue negatives: 11728\n",
      "\n",
      "None\n",
      "DecisionTreeClassifier(class_weight=None, criterion='gini', max_depth=None,\n",
      "            max_features=None, max_leaf_nodes=None,\n",
      "            min_impurity_split=1e-07, min_samples_leaf=1,\n",
      "            min_samples_split=2, min_weight_fraction_leaf=0.0,\n",
      "            presort=False, random_state=42, splitter='best')\n",
      "\tAccuracy: 0.80380\tPrecision: 0.25353\tRecall: 0.24250\tF1: 0.24789\tF2: 0.24463\n",
      "\tTotal predictions: 15000\tTrue positives:  485\tFalse positives: 1428\tFalse negatives: 1515\tTrue negatives: 11572\n",
      "\n",
      "None\n"
     ]
    }
   ],
   "source": [
    "var_s = [\"exercised_stock_options\", \"other\", \"restricted_stock\", \"expenses\", \"total_payments\", \"bonus\",\n",
    "         \"shared_receipt_with_poi\", \"from_messages\", \"from_this_person_to_poi\", \"salary\"]\n",
    "predictor_s = [\"poi\"]\n",
    "for e in var_s:\n",
    "    predictor_s.append(e)\n",
    "    data_loop = featureFormat(my_dataset, predictor_s, remove_all_zeroes = False, sort_keys = True)\n",
    "    labels_loop, features_loop = targetFeatureSplit(data_loop)\n",
    "    features_loop = StandardScaler().fit_transform(features_loop)\n",
    "    model = DecisionTreeClassifier(random_state = 42).fit(features_loop, labels_loop)\n",
    "    print test_classifier(model, my_dataset, predictor_s)"
   ]
  },
  {
   "cell_type": "markdown",
   "metadata": {},
   "source": [
    "Based on the results above, we would like to keep **exercised_stock_options**, **other**, **restricted_stock**, **expenses** and **total_payments** these five variables eventually. Because when we keep these four features only, the corresponding `Decision Tree` model is having the highest both `Precision` and `Recall` values.\n",
    "\n",
    "## 3. Model Fitting and Validation\n",
    "### 3.1 Cross-validation\n",
    "We know that different algorithms may have different parameters that we had better tune instead of assigning some random values. If we choose to use default parameters or just assign some random values, we may not get the result with the most satisfactory performance. Either under-fitting from a simple model or over-fitting from a complicated one is not a good idea.\n",
    "\n",
    "In additional to that, if we use the whole dataset to train our models, it is also easy to get a result that fits with the training set only. A good training performance with a low testing one is definitely not something that we would like to have, either.\n",
    "\n",
    "Hence, in this project, we would like to perform 10-fold cross-validation to help us find out the best model that we would like to have. 10-fold cross-validation will cut the whold dataset into 10 subsets randomly and equally. We will train the model based on 9 of them and test the model by using the rest. We will repeat this procedure 10 times to make sure that every subset has been tested once. Cross-validation will reduce the influence of over-fitting and at the same time help us find out the best tuning parameters with the best performance.\n",
    "\n",
    "As we have mentioned above, this is an imbalanced classification problem. The proportion of `poi` being 0 and 1 may vary seriously, which may not be persuasive. Hence, we would like to choose Stratified Cross Validation here instead of general Cross Validation. And stratified split will be used in our model training part and validation part. Additional discussion will be made below.\n",
    "\n",
    "### 3.2 Algorithms\n",
    "\n",
    "In this part, I would like to fit several classifiers based on different machine learning algorithms including **Naive Bayes**, **Decision Tree** and **K Nearest Neighbor**. And different tuning parameters of the same algorithm may and will change the performance of our models dramatically.\n",
    "\n",
    "- For **Naive Bayes** algorithm, we would not tune any parameters but use the default ones only.\n",
    "- For **Decision Tree** algorithm, we would like to tune both `criterion` and `min_samples_split`. Parameter `criterion` stands for the function that measures the quality of split while parameter `min_samples_split` indicates the minimum number of samples required to split an internal node.\n",
    "- For **K Nearest Neighbor** algorithm, we would like to tune `n_neighbors` which is the number of neighbors that we used while we train our classifier.\n",
    "\n",
    "### 3.3 Metrics\n",
    "Same as the previous feature selection part, we will use both precision and recall to validate these three models. The model with highest precision and recall will be chosen. We will use those variables to try additional algorithms to see if we can have better performances. If it is hard to make decision based on precision and recall, we will choose the one with higher overall accuracy.\n",
    "\n",
    "$$Precision = \\displaystyle{\\frac{TP}{TP+FP}}$$  \n",
    "$$Recall = \\displaystyle{\\frac{TP}{TP+FN}}$$  \n",
    "$$Accuarcy = \\displaystyle{\\frac{TP+TN}{TP+TN+FP+FN}}$$  \n",
    "where TP stands for True Positive, FP stands for False Positive, TN stands for True Negative and FN stands for False Negative. The importance of using these three metrics especially the first two have been discussed in the feature selection part.\n",
    "\n",
    "- Based on the formulas above, we can read the numerator of both Precision and Recall is True Positive which stands for both actual and predicted poi being 1. The denominator of Precision is all predicted poi being 1 while the denominator of Recall is all actual poi being 1.\n",
    "- Because of the large amount poi being 0 (127 vs 18), overall accuracy may not be a good metric here. That is also why we choose it as a back-up one just in case.\n",
    "- The less False Positive (actual poi is 0 but we predict it to be 1) we make, the higher Precision will be.\n",
    "- The less False Negative (actual poi is 1 but we predict it to be 0) we make, the higher Recall it will be.\n",
    "\n",
    "In addtion to them, we will also choose the function `test_classifier` offered by Udacity to test these models. This function will include `Accuracy`, `Precision`, `Recall`, `F1` and `F2`. In order to calculate these, True positive, True negative, False positive and Negative are calculated, too. Here, we borrowed the function `StratifiedShuffleSplit` from [scikit learn](http://scikit-learn.org/stable/) module to split the whole dataset into training and testing sets. Parameters `folds` whose default value is set 1000 here stands for 1000 re-splitting iterations. 10% will be assigned to testing set while the rest 90% are in training set. We will concatenate 1000 training subsets together and 1000 testing subsets together. Then, we will train the model based on the whole training dataset and the algorithm that we chose again, and make prediction based on the whole testing set here."
   ]
  },
  {
   "cell_type": "code",
   "execution_count": 8,
   "metadata": {},
   "outputs": [
    {
     "name": "stdout",
     "output_type": "stream",
     "text": [
      "The training precision and recall of Naive Bayes are 0.4000 and 0.2222 respectively.\n",
      "\n",
      "Best Parameters for Decision Tree:\n",
      "{'min_samples_split': 2, 'criterion': 'gini'}\n",
      "The training precision and recall of Decision Tree are 1.0000 and 1.0000 respectively.\n",
      "\n",
      "Best Parameters for K Nearest Neighbors:\n",
      "{'n_neighbors': 3}\n",
      "The training precision and recall of KNN are 0.7143 and 0.2778 respectively.\n",
      "\n"
     ]
    }
   ],
   "source": [
    "predictors = [\"poi\", \"exercised_stock_options\", \"other\", \"restricted_stock\", \"expenses\", \"total_payments\"]\n",
    "my_dataset = data_dict\n",
    "\n",
    "### Extract features and labels from dataset for local testing\n",
    "data = featureFormat(my_dataset, predictors, sort_keys = True)\n",
    "labels_, features_ = targetFeatureSplit(data)\n",
    "from sklearn.tree import DecisionTreeClassifier\n",
    "features_ = StandardScaler().fit_transform(features_)\n",
    "\n",
    "from sklearn.model_selection import GridSearchCV\n",
    "from sklearn.metrics import precision_score, recall_score\n",
    "from sklearn.neighbors import KNeighborsClassifier\n",
    "# Naive Bayes\n",
    "from sklearn.naive_bayes import GaussianNB\n",
    "clf_NB = GaussianNB().fit(features_, labels_)\n",
    "print \"The training precision and recall of Naive Bayes are {:.4f} and {:.4f} respectively.\\n\".format(\n",
    "    precision_score(labels_, clf_NB.predict(features_)),\n",
    "    recall_score(labels_, clf_NB.predict(features_)))\n",
    "\n",
    "# Decision Tree\n",
    "parameters = {\"criterion\": [\"gini\", \"entropy\"], \"min_samples_split\":[2, 4, 6, 8, 10, 12, 14]}\n",
    "clf_DT = GridSearchCV(DecisionTreeClassifier(random_state = 42), parameters, cv = 10, scoring = \"recall\")\n",
    "clf_DT.fit(features_, labels_)\n",
    "print \"Best Parameters for Decision Tree:\"\n",
    "print clf_DT.best_params_\n",
    "print \"The training precision and recall of Decision Tree are {:.4f} and {:.4f} respectively.\\n\".format(\n",
    "    precision_score(labels_, clf_DT.predict(features_)),\n",
    "    recall_score(labels_, clf_DT.predict(features_)))\n",
    "\n",
    "# K Nearest Neighbors\n",
    "parameters = {\"n_neighbors\": [3, 5, 7, 9, 11, 13, 15, 17, 19, 21]}\n",
    "clf_KNN = GridSearchCV(KNeighborsClassifier(), parameters, cv = 10, scoring = \"recall\")\n",
    "clf_KNN.fit(features_, labels_)\n",
    "print \"Best Parameters for K Nearest Neighbors:\"\n",
    "print clf_KNN.best_params_\n",
    "print \"The training precision and recall of KNN are {:.4f} and {:.4f} respectively.\\n\".format(\n",
    "    precision_score(labels_, clf_KNN.predict(features_)),\n",
    "    recall_score(labels_, clf_KNN.predict(features_)))"
   ]
  },
  {
   "cell_type": "code",
   "execution_count": 9,
   "metadata": {},
   "outputs": [
    {
     "name": "stdout",
     "output_type": "stream",
     "text": [
      "GaussianNB(priors=None)\n",
      "\tAccuracy: 0.84327\tPrecision: 0.34002\tRecall: 0.18650\tF1: 0.24088\tF2: 0.20501\n",
      "\tTotal predictions: 15000\tTrue positives:  373\tFalse positives:  724\tFalse negatives: 1627\tTrue negatives: 12276\n",
      "\n",
      "None\n",
      "DecisionTreeClassifier(class_weight=None, criterion='gini', max_depth=None,\n",
      "            max_features=None, max_leaf_nodes=None,\n",
      "            min_impurity_split=1e-07, min_samples_leaf=1,\n",
      "            min_samples_split=2, min_weight_fraction_leaf=0.0,\n",
      "            presort=False, random_state=42, splitter='best')\n",
      "\tAccuracy: 0.81980\tPrecision: 0.33365\tRecall: 0.35250\tF1: 0.34282\tF2: 0.34856\n",
      "\tTotal predictions: 15000\tTrue positives:  705\tFalse positives: 1408\tFalse negatives: 1295\tTrue negatives: 11592\n",
      "\n",
      "None\n",
      "KNeighborsClassifier(algorithm='auto', leaf_size=30, metric='minkowski',\n",
      "           metric_params=None, n_jobs=1, n_neighbors=3, p=2,\n",
      "           weights='uniform')\n",
      "\tAccuracy: 0.86613\tPrecision: 0.49504\tRecall: 0.19950\tF1: 0.28439\tF2: 0.22655\n",
      "\tTotal predictions: 15000\tTrue positives:  399\tFalse positives:  407\tFalse negatives: 1601\tTrue negatives: 12593\n",
      "\n",
      "None\n"
     ]
    }
   ],
   "source": [
    "clf_DT_ = clf_DT.best_estimator_\n",
    "clf_KNN_ = clf_KNN.best_estimator_\n",
    "print test_classifier(clf_NB, my_dataset, predictors)\n",
    "print test_classifier(clf_DT_, my_dataset, predictors)\n",
    "print test_classifier(clf_KNN_, my_dataset, predictors)"
   ]
  },
  {
   "cell_type": "markdown",
   "metadata": {
    "collapsed": true
   },
   "source": [
    "## 4. Summary\n",
    "\n",
    "Based on the performances above, we can read that **Decision Tree** has their precision and recall greater than 0.3. The corresponding precision and recall that we got from `test_classifier` function are 0.33365 and 0.35250, respectively. The overall accuracy here is 0.81980.\n",
    "\n",
    "For **Naive Bayes** and **K Nearest Neighbor** algorithm, even if the overall accuracies and precisions are slightly better than those of **Decision Tree**, but the recalls of these two are much worse.\n",
    "\n",
    "## Reference\n",
    "- Precision and recall, Wikepedia, https://en.wikipedia.org/wiki/Precision_and_recall"
   ]
  },
  {
   "cell_type": "code",
   "execution_count": null,
   "metadata": {
    "collapsed": true
   },
   "outputs": [],
   "source": []
  }
 ],
 "metadata": {
  "kernelspec": {
   "display_name": "Python 2",
   "language": "python",
   "name": "python2"
  },
  "language_info": {
   "codemirror_mode": {
    "name": "ipython",
    "version": 2
   },
   "file_extension": ".py",
   "mimetype": "text/x-python",
   "name": "python",
   "nbconvert_exporter": "python",
   "pygments_lexer": "ipython2",
   "version": "2.7.13"
  }
 },
 "nbformat": 4,
 "nbformat_minor": 2
}
