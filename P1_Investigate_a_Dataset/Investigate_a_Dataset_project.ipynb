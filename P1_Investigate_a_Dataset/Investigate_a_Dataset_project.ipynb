{
 "cells": [
  {
   "cell_type": "markdown",
   "metadata": {},
   "source": [
    "# Titanic Passenger Analysis\n",
    "## 1. Introduction\n",
    "\n",
    "In this project, I would like to analyse `Titanic Data` which contains demographics and passenger information from 891 of the total 2224 passengers and crew on board the Titanic. After finishing loading our dataset, we would like to present several observations, which will give us a clearer understanding of our data records.\n",
    "\n",
    "In each following part, we will ask ourselves several questions that we may be interested in, and then we will try to find answers of those questions and may ask some additional questions. In our final **summary** part, I will summary all questions that I am interested in again and their corresponding answers.\n",
    "\n",
    "**Question 1:** How many observations and variables in our dataset? For the variables, what is the type of each variable, such as, continuous, discrete, etc?\n",
    "\n",
    "**Question 2:** Is there any invalid or missing value in our dataset? If yes, what would you like to do?"
   ]
  },
  {
   "cell_type": "code",
   "execution_count": 1,
   "metadata": {},
   "outputs": [
    {
     "name": "stdout",
     "output_type": "stream",
     "text": [
      "This dataset has 891 observations and 12 variables.\n"
     ]
    },
    {
     "data": {
      "text/html": [
       "<div>\n",
       "<style>\n",
       "    .dataframe thead tr:only-child th {\n",
       "        text-align: right;\n",
       "    }\n",
       "\n",
       "    .dataframe thead th {\n",
       "        text-align: left;\n",
       "    }\n",
       "\n",
       "    .dataframe tbody tr th {\n",
       "        vertical-align: top;\n",
       "    }\n",
       "</style>\n",
       "<table border=\"1\" class=\"dataframe\">\n",
       "  <thead>\n",
       "    <tr style=\"text-align: right;\">\n",
       "      <th></th>\n",
       "      <th>PassengerId</th>\n",
       "      <th>Survived</th>\n",
       "      <th>Pclass</th>\n",
       "      <th>Name</th>\n",
       "      <th>Sex</th>\n",
       "      <th>Age</th>\n",
       "      <th>SibSp</th>\n",
       "      <th>Parch</th>\n",
       "      <th>Ticket</th>\n",
       "      <th>Fare</th>\n",
       "      <th>Cabin</th>\n",
       "      <th>Embarked</th>\n",
       "    </tr>\n",
       "  </thead>\n",
       "  <tbody>\n",
       "    <tr>\n",
       "      <th>0</th>\n",
       "      <td>1</td>\n",
       "      <td>0</td>\n",
       "      <td>3</td>\n",
       "      <td>Braund, Mr. Owen Harris</td>\n",
       "      <td>male</td>\n",
       "      <td>22.0</td>\n",
       "      <td>1</td>\n",
       "      <td>0</td>\n",
       "      <td>A/5 21171</td>\n",
       "      <td>7.2500</td>\n",
       "      <td>NaN</td>\n",
       "      <td>S</td>\n",
       "    </tr>\n",
       "    <tr>\n",
       "      <th>1</th>\n",
       "      <td>2</td>\n",
       "      <td>1</td>\n",
       "      <td>1</td>\n",
       "      <td>Cumings, Mrs. John Bradley (Florence Briggs Th...</td>\n",
       "      <td>female</td>\n",
       "      <td>38.0</td>\n",
       "      <td>1</td>\n",
       "      <td>0</td>\n",
       "      <td>PC 17599</td>\n",
       "      <td>71.2833</td>\n",
       "      <td>C85</td>\n",
       "      <td>C</td>\n",
       "    </tr>\n",
       "    <tr>\n",
       "      <th>2</th>\n",
       "      <td>3</td>\n",
       "      <td>1</td>\n",
       "      <td>3</td>\n",
       "      <td>Heikkinen, Miss. Laina</td>\n",
       "      <td>female</td>\n",
       "      <td>26.0</td>\n",
       "      <td>0</td>\n",
       "      <td>0</td>\n",
       "      <td>STON/O2. 3101282</td>\n",
       "      <td>7.9250</td>\n",
       "      <td>NaN</td>\n",
       "      <td>S</td>\n",
       "    </tr>\n",
       "    <tr>\n",
       "      <th>3</th>\n",
       "      <td>4</td>\n",
       "      <td>1</td>\n",
       "      <td>1</td>\n",
       "      <td>Futrelle, Mrs. Jacques Heath (Lily May Peel)</td>\n",
       "      <td>female</td>\n",
       "      <td>35.0</td>\n",
       "      <td>1</td>\n",
       "      <td>0</td>\n",
       "      <td>113803</td>\n",
       "      <td>53.1000</td>\n",
       "      <td>C123</td>\n",
       "      <td>S</td>\n",
       "    </tr>\n",
       "    <tr>\n",
       "      <th>4</th>\n",
       "      <td>5</td>\n",
       "      <td>0</td>\n",
       "      <td>3</td>\n",
       "      <td>Allen, Mr. William Henry</td>\n",
       "      <td>male</td>\n",
       "      <td>35.0</td>\n",
       "      <td>0</td>\n",
       "      <td>0</td>\n",
       "      <td>373450</td>\n",
       "      <td>8.0500</td>\n",
       "      <td>NaN</td>\n",
       "      <td>S</td>\n",
       "    </tr>\n",
       "  </tbody>\n",
       "</table>\n",
       "</div>"
      ],
      "text/plain": [
       "   PassengerId  Survived  Pclass  \\\n",
       "0            1         0       3   \n",
       "1            2         1       1   \n",
       "2            3         1       3   \n",
       "3            4         1       1   \n",
       "4            5         0       3   \n",
       "\n",
       "                                                Name     Sex   Age  SibSp  \\\n",
       "0                            Braund, Mr. Owen Harris    male  22.0      1   \n",
       "1  Cumings, Mrs. John Bradley (Florence Briggs Th...  female  38.0      1   \n",
       "2                             Heikkinen, Miss. Laina  female  26.0      0   \n",
       "3       Futrelle, Mrs. Jacques Heath (Lily May Peel)  female  35.0      1   \n",
       "4                           Allen, Mr. William Henry    male  35.0      0   \n",
       "\n",
       "   Parch            Ticket     Fare Cabin Embarked  \n",
       "0      0         A/5 21171   7.2500   NaN        S  \n",
       "1      0          PC 17599  71.2833   C85        C  \n",
       "2      0  STON/O2. 3101282   7.9250   NaN        S  \n",
       "3      0            113803  53.1000  C123        S  \n",
       "4      0            373450   8.0500   NaN        S  "
      ]
     },
     "execution_count": 1,
     "metadata": {},
     "output_type": "execute_result"
    }
   ],
   "source": [
    "# Load useful Python module\n",
    "import pandas as pd\n",
    "import numpy as np\n",
    "## Read the dataset\n",
    "titanic = pd.read_csv('titanic-data.csv')\n",
    "## Print out the size of our dataset\n",
    "print(\"This dataset has {} observations and {} variables.\".format(titanic.shape[0], titanic.shape[1]))\n",
    "## Print the first few lines of our dataset \n",
    "titanic.head()"
   ]
  },
  {
   "cell_type": "markdown",
   "metadata": {},
   "source": [
    "From the output above, we can read that there are 891 observations and 12 variables in our Titanic dataset. The description file can also help us understand this dataset in a more accurate way. Clearly, **Survived**, **Pclass**, **Sex**, **Cabin**, **Ticket** and **Embarked** are categorical variables while **Age** and **Fare** are continuous ones. Variable **SibSp** and **Parch** are discrete variables with only integer values. Variables **PassengerId** and **Name** which technically should be considered categorical variables are more like a primary key because neither **PassengerId** nor **Name** contains duplicate values, which can represent the corresponding observation.\n",
    "\n",
    "From the table above, we can notice that variable **Cabin** contains 3 NaN's (not a number) which stands for the invalid record in our first 5 observations. In the following part, we would like to dig deeper into different variables in our dataset, and more potential missing and invalid values will be detected. Currently, there are many methods to solve this issue which includes but are not limited to pairwise deletion, regression imputation, mean or median substitution, etc. There is no perfect one, and different methods have different their own advantages and disadvantages. In this project, we will use pairwise deletion to deal with missing or invalid data."
   ]
  },
  {
   "cell_type": "code",
   "execution_count": 2,
   "metadata": {
    "collapsed": true
   },
   "outputs": [],
   "source": [
    "## Convert the values of Survived, Pclass and Embarked back to their original values.\n",
    "titanic.Survived = np.where(titanic.Survived == 0, \"No\",\n",
    "                            np.where(titanic.Survived == 1, \"Yes\", None))\n",
    "titanic.Pclass = np.where(titanic.Pclass == 1, \"1st\",\n",
    "                          np.where(titanic.Pclass == 2, \"2nd\",\n",
    "                                   np.where(titanic.Pclass == 3, \"3rd\", None)))\n",
    "titanic.Embarked = np.where(titanic.Embarked == 'S', \"Southampton\",\n",
    "                            np.where(titanic.Embarked == \"C\", 'Cherbourg',\n",
    "                                     np.where(titanic.Embarked == \"Q\", 'Queenstown', None)))"
   ]
  },
  {
   "cell_type": "markdown",
   "metadata": {
    "collapsed": true
   },
   "source": [
    "## 2. Numerical Variables\n",
    "\n",
    "**Question 3:** What are the distributions of our numerical variables? Can I find ways to present their distributions quantatitively and visually? For example, what are the basic five number summary statistics, do those two have any missing or invalid values, etc?\n",
    "\n",
    "### 2.1 Summary Statistics\n",
    "\n",
    "First of all, I would like to take a look at our continuous variables **Age** and **Fare**. At the beginning, we take a look at the basic summary statistics of these two."
   ]
  },
  {
   "cell_type": "code",
   "execution_count": 3,
   "metadata": {},
   "outputs": [
    {
     "data": {
      "text/html": [
       "<div>\n",
       "<style>\n",
       "    .dataframe thead tr:only-child th {\n",
       "        text-align: right;\n",
       "    }\n",
       "\n",
       "    .dataframe thead th {\n",
       "        text-align: left;\n",
       "    }\n",
       "\n",
       "    .dataframe tbody tr th {\n",
       "        vertical-align: top;\n",
       "    }\n",
       "</style>\n",
       "<table border=\"1\" class=\"dataframe\">\n",
       "  <thead>\n",
       "    <tr style=\"text-align: right;\">\n",
       "      <th></th>\n",
       "      <th>Age</th>\n",
       "      <th>Fare</th>\n",
       "      <th>SibSp</th>\n",
       "      <th>Parch</th>\n",
       "    </tr>\n",
       "  </thead>\n",
       "  <tbody>\n",
       "    <tr>\n",
       "      <th>count</th>\n",
       "      <td>714.000000</td>\n",
       "      <td>891.000000</td>\n",
       "      <td>891.000000</td>\n",
       "      <td>891.000000</td>\n",
       "    </tr>\n",
       "    <tr>\n",
       "      <th>mean</th>\n",
       "      <td>29.699118</td>\n",
       "      <td>32.204208</td>\n",
       "      <td>0.523008</td>\n",
       "      <td>0.381594</td>\n",
       "    </tr>\n",
       "    <tr>\n",
       "      <th>std</th>\n",
       "      <td>14.526497</td>\n",
       "      <td>49.693429</td>\n",
       "      <td>1.102743</td>\n",
       "      <td>0.806057</td>\n",
       "    </tr>\n",
       "    <tr>\n",
       "      <th>min</th>\n",
       "      <td>0.420000</td>\n",
       "      <td>0.000000</td>\n",
       "      <td>0.000000</td>\n",
       "      <td>0.000000</td>\n",
       "    </tr>\n",
       "    <tr>\n",
       "      <th>25%</th>\n",
       "      <td>20.125000</td>\n",
       "      <td>7.910400</td>\n",
       "      <td>0.000000</td>\n",
       "      <td>0.000000</td>\n",
       "    </tr>\n",
       "    <tr>\n",
       "      <th>50%</th>\n",
       "      <td>28.000000</td>\n",
       "      <td>14.454200</td>\n",
       "      <td>0.000000</td>\n",
       "      <td>0.000000</td>\n",
       "    </tr>\n",
       "    <tr>\n",
       "      <th>75%</th>\n",
       "      <td>38.000000</td>\n",
       "      <td>31.000000</td>\n",
       "      <td>1.000000</td>\n",
       "      <td>0.000000</td>\n",
       "    </tr>\n",
       "    <tr>\n",
       "      <th>max</th>\n",
       "      <td>80.000000</td>\n",
       "      <td>512.329200</td>\n",
       "      <td>8.000000</td>\n",
       "      <td>6.000000</td>\n",
       "    </tr>\n",
       "  </tbody>\n",
       "</table>\n",
       "</div>"
      ],
      "text/plain": [
       "              Age        Fare       SibSp       Parch\n",
       "count  714.000000  891.000000  891.000000  891.000000\n",
       "mean    29.699118   32.204208    0.523008    0.381594\n",
       "std     14.526497   49.693429    1.102743    0.806057\n",
       "min      0.420000    0.000000    0.000000    0.000000\n",
       "25%     20.125000    7.910400    0.000000    0.000000\n",
       "50%     28.000000   14.454200    0.000000    0.000000\n",
       "75%     38.000000   31.000000    1.000000    0.000000\n",
       "max     80.000000  512.329200    8.000000    6.000000"
      ]
     },
     "execution_count": 3,
     "metadata": {},
     "output_type": "execute_result"
    }
   ],
   "source": [
    "## Print the descriptive statistics of numerical variables\n",
    "titanic[['Age', 'Fare', 'SibSp', 'Parch']].describe()"
   ]
  },
  {
   "cell_type": "markdown",
   "metadata": {},
   "source": [
    "For variable **Age**, we can read that the average age of the passengers is 29.70. The youngest passenger is only 0.42 years (approximate 5 months) old while the oldest is 80 years old. The 25 percentile, median and 75 percentile are 20.13, 28 and 38, respectively. Clearly, the result shows that the passengers that in our dataset tended to be younger than middle age (45-65 from Wikipedia).\n",
    "\n",
    "For variable **Fare**, we can know that the average fare of the passengers is 32.20. The cheapest ticket only was totally free while the most expensive tickets did cost 512.3292. Usually, the prices only contain numerical values with 2 decimal places, which means that this value may be due to different units, like U.S. dollar to U.K. pound, or some other reasons. The 25 percentile, median and 75 percentile are 7.9104, 14.4542 and 31. These values show that the tickets that passengers in our dataset were not extremely expensive. The searching result on Google tells us that the most expensive tickets of Titanic cost 870 U.K. pounds (4350 U.S. dollars) at that time.\n",
    "\n",
    "The \"count\" here needs our attention particularly. We already knew that we have 891 observations in our dataset. But we only have 714 **Age** records here, which means that 177 passengers in our dataset were missing values. Luckily, there is no missing values in the variable of **Fare**.\n",
    "\n",
    "### 2.2 Data Visualization\n",
    "\n",
    "Boxplot and histogram can help us understand the distributions of our variables visually and semi-quantitatively. Like the summary statistics that we have listed before, boxplot mainly focuses on the five number summary. Histogram mainly helps us understand the distribution of our variables since different distributions may still have the same five number summary values."
   ]
  },
  {
   "cell_type": "code",
   "execution_count": 4,
   "metadata": {},
   "outputs": [
    {
     "data": {
      "image/png": "[encoded data removed]",
      "text/plain": [
       "<matplotlib.figure.Figure at 0xb64850208>"
      ]
     },
     "metadata": {},
     "output_type": "display_data"
    },
    {
     "data": {
      "image/png": "[encoded data removed]",
      "text/plain": [
       "<matplotlib.figure.Figure at 0xb64cb3278>"
      ]
     },
     "metadata": {},
     "output_type": "display_data"
    },
    {
     "data": {
      "image/png": "[encoded data removed]",
      "text/plain": [
       "<matplotlib.figure.Figure at 0xb64e013c8>"
      ]
     },
     "metadata": {},
     "output_type": "display_data"
    },
    {
     "data": {
      "image/png": "[encoded data removed]",
      "text/plain": [
       "<matplotlib.figure.Figure at 0xb65e87208>"
      ]
     },
     "metadata": {},
     "output_type": "display_data"
    }
   ],
   "source": [
    "%matplotlib inline\n",
    "## Load necessary Python module\n",
    "import matplotlib.pyplot as plt\n",
    "import scipy.stats as ss\n",
    "## This function is used for creating a boxplot\n",
    "def Boxplot(var):\n",
    "    x = titanic[var].dropna()\n",
    "    plt.boxplot(x)\n",
    "    plt.title(\"Boxplot of \" + var)\n",
    "    plt.xlabel(var)\n",
    "    plt.ylabel(\"value of {}\".format(var))\n",
    "    plt.show()\n",
    "## This function is used for creating a histogram\n",
    "def Histogram(var, bin_num = 30, log = False, plus = None):\n",
    "    if log == False:\n",
    "        x = titanic[var].dropna()\n",
    "        plt.title(\"Histogram of {}\".format(var))\n",
    "        plt.xlabel(var)\n",
    "    elif log == True and plus != None:\n",
    "        x = np.log(titanic[var].dropna()+1)\n",
    "        plt.title(\"Histogram of log({}+1)\".format(var))\n",
    "        plt.xlabel(\"log({}+1)\".format(var))\n",
    "    else:\n",
    "        x = np.log(titanic[var].dropna())\n",
    "        plt.title(\"Histogram of log({})\".format(var))\n",
    "        plt.xlabel(\"log({})\".format(var))\n",
    "    plt.hist(x, bin_num, normed = True)\n",
    "    mean, std = x.mean(), x.std()\n",
    "    plt.plot(sorted(x), ss.norm.pdf(sorted(x), mean, std))\n",
    "    plt.ylabel(\"Density\")\n",
    "    plt.show()\n",
    "## This function is used for creating a bar plot\n",
    "def Barplot(var):\n",
    "    count_ = titanic[var].value_counts(sort = False)\n",
    "    val = [j for j in count_.values]\n",
    "    loc = np.arange(len(val))\n",
    "    level = [str(i) for i in count_.index]\n",
    "    plt.bar(left = loc, height = val)\n",
    "    plt.xticks(loc, level)\n",
    "    plt.title(\"Barplot of {}\".format(var))\n",
    "    plt.xlabel(var)\n",
    "    plt.ylabel(\"Count\")\n",
    "    plt.show()\n",
    "## Draw boxplot and histogram of variable Age and Fare\n",
    "for var in ['Age', 'Fare']:\n",
    "    Boxplot(var)\n",
    "    Histogram(var)"
   ]
  },
  {
   "cell_type": "code",
   "execution_count": 5,
   "metadata": {},
   "outputs": [
    {
     "name": "stdout",
     "output_type": "stream",
     "text": [
      "The frequency table of variable SibSp.\n",
      "0    608\n",
      "1    209\n",
      "2     28\n",
      "3     16\n",
      "4     18\n",
      "5      5\n",
      "8      7\n",
      "Name: SibSp, dtype: int64\n"
     ]
    },
    {
     "data": {
      "image/png": "[encoded data removed]",
      "text/plain": [
       "<matplotlib.figure.Figure at 0xb6355e2e8>"
      ]
     },
     "metadata": {},
     "output_type": "display_data"
    },
    {
     "name": "stdout",
     "output_type": "stream",
     "text": [
      "The frequency table of variable Parch.\n",
      "0    678\n",
      "1    118\n",
      "2     80\n",
      "3      5\n",
      "4      4\n",
      "5      5\n",
      "6      1\n",
      "Name: Parch, dtype: int64\n"
     ]
    },
    {
     "data": {
      "image/png": "[encoded data removed]",
      "text/plain": [
       "<matplotlib.figure.Figure at 0xb64e01278>"
      ]
     },
     "metadata": {},
     "output_type": "display_data"
    }
   ],
   "source": [
    "## Print out the frequency table and Barplot of variable SibSp and Parch\n",
    "for var in ['SibSp', 'Parch']:\n",
    "    print(\"The frequency table of variable {}.\".format(var))\n",
    "    print(titanic[var].value_counts(sort = False))\n",
    "    Barplot(var)"
   ]
  },
  {
   "cell_type": "markdown",
   "metadata": {},
   "source": [
    "First, we focus on the variable **Age**. Both boxplot and histogram show that the age of our valid 791 passengers tend to be younger while there are several outliers which indicate old passengers. Additionally, I added a normal distribution curve to the histogram to check if it follows normal distribution. We can read from the plot that most parts can fit with the normal distribution curve while the middle part tends to be slightly higher. We may notice the slightly positive skewness trend in this histogram, too.\n",
    "\n",
    "Then, we talk about the variable **Fare**. The histogram clearer shows that this distribution is positively skewed, and at the same time, our boxplot shows that there are several outliers with extremely comparatively expensive Titanic tickets. Positive skewness also indicates non-normal distribution.\n",
    "\n",
    "In addition to these two histogram, we still would like to perform logarithm transformation on these two variables to check if they may follow log-normal distribution. We will plus a small value 1 to each value of variable **Fare** in case of the existence of 0 value.\n",
    "\n",
    "We used barplots to present variable **SibSp** and **Parch**'s distributions. We found that actually many passengers did not travel with their siblings or children. And very few passengers travered with more than 1 sibling or 2 children. Actually, this record may not be exactly true, because people may travel with their grandchildren or even great grandchildren."
   ]
  },
  {
   "cell_type": "code",
   "execution_count": 6,
   "metadata": {},
   "outputs": [
    {
     "data": {
      "image/png": "[encoded data removed]",
      "text/plain": [
       "<matplotlib.figure.Figure at 0xb632fb710>"
      ]
     },
     "metadata": {},
     "output_type": "display_data"
    },
    {
     "data": {
      "image/png": "[encoded data removed]",
      "text/plain": [
       "<matplotlib.figure.Figure at 0xb660bb8d0>"
      ]
     },
     "metadata": {},
     "output_type": "display_data"
    }
   ],
   "source": [
    "## Perform histogram of variable Age and Fare after logarithm transformation\n",
    "for var in ['Age', 'Fare']:\n",
    "    if var == 'Fare':\n",
    "        plus_ = 1\n",
    "    else:\n",
    "        plus_ = None\n",
    "    Histogram(var, log = True, plus = plus_)\n",
    "    plt.show()"
   ]
  },
  {
   "cell_type": "markdown",
   "metadata": {
    "collapsed": true
   },
   "source": [
    "In the histogram of `log(Age)`, the distribution shows an obvious negative skewness. In the histogram of `log(Fare+1)`, there still exists a special interval which ranges approximately from 2 to 2.2 with an extremely high frequency.\n",
    "\n",
    "Hence, based on results, we can say that variables **Age** follows normal distribution and **Fare** follows log-normal distribution approximately.\n",
    "\n",
    "## 3. Categorical Variables\n",
    "\n",
    "**Question 4:** What are the distributions of our categorical variables? Is there any variable that you think not as useful as the others? If yes, why? Do those variables have any missing or invalid records? What information can we get from their distributions.\n",
    "\n",
    "### 3.1 Summary Statistics\n",
    "\n",
    "Like continuous variables, we take a look at the basic summary statistics of **Survived**, **Pclass**, **Sex**, **Ticket**, **Cabin** and **Embarked** these five categorical variables at the beginning."
   ]
  },
  {
   "cell_type": "code",
   "execution_count": 7,
   "metadata": {},
   "outputs": [
    {
     "data": {
      "text/html": [
       "<div>\n",
       "<style>\n",
       "    .dataframe thead tr:only-child th {\n",
       "        text-align: right;\n",
       "    }\n",
       "\n",
       "    .dataframe thead th {\n",
       "        text-align: left;\n",
       "    }\n",
       "\n",
       "    .dataframe tbody tr th {\n",
       "        vertical-align: top;\n",
       "    }\n",
       "</style>\n",
       "<table border=\"1\" class=\"dataframe\">\n",
       "  <thead>\n",
       "    <tr style=\"text-align: right;\">\n",
       "      <th></th>\n",
       "      <th>Survived</th>\n",
       "      <th>Pclass</th>\n",
       "      <th>Sex</th>\n",
       "      <th>Ticket</th>\n",
       "      <th>Cabin</th>\n",
       "      <th>Embarked</th>\n",
       "    </tr>\n",
       "  </thead>\n",
       "  <tbody>\n",
       "    <tr>\n",
       "      <th>count</th>\n",
       "      <td>891</td>\n",
       "      <td>891</td>\n",
       "      <td>891</td>\n",
       "      <td>891</td>\n",
       "      <td>204</td>\n",
       "      <td>889</td>\n",
       "    </tr>\n",
       "    <tr>\n",
       "      <th>unique</th>\n",
       "      <td>2</td>\n",
       "      <td>3</td>\n",
       "      <td>2</td>\n",
       "      <td>681</td>\n",
       "      <td>147</td>\n",
       "      <td>3</td>\n",
       "    </tr>\n",
       "    <tr>\n",
       "      <th>top</th>\n",
       "      <td>No</td>\n",
       "      <td>3rd</td>\n",
       "      <td>male</td>\n",
       "      <td>347082</td>\n",
       "      <td>B96 B98</td>\n",
       "      <td>Southampton</td>\n",
       "    </tr>\n",
       "    <tr>\n",
       "      <th>freq</th>\n",
       "      <td>549</td>\n",
       "      <td>491</td>\n",
       "      <td>577</td>\n",
       "      <td>7</td>\n",
       "      <td>4</td>\n",
       "      <td>644</td>\n",
       "    </tr>\n",
       "  </tbody>\n",
       "</table>\n",
       "</div>"
      ],
      "text/plain": [
       "       Survived Pclass   Sex  Ticket    Cabin     Embarked\n",
       "count       891    891   891     891      204          889\n",
       "unique        2      3     2     681      147            3\n",
       "top          No    3rd  male  347082  B96 B98  Southampton\n",
       "freq        549    491   577       7        4          644"
      ]
     },
     "execution_count": 7,
     "metadata": {},
     "output_type": "execute_result"
    }
   ],
   "source": [
    "## Convert variable types\n",
    "titanic.Survived = titanic.Survived.astype('object', copy=False)\n",
    "titanic.Pclass = titanic.Pclass.astype('object', copy=False)\n",
    "## Print the descriptive statistics of categorical variables\n",
    "titanic[['Survived', 'Pclass', 'Sex', 'Ticket', 'Cabin', 'Embarked']].describe()"
   ]
  },
  {
   "cell_type": "markdown",
   "metadata": {},
   "source": [
    "For variable **Survived**, we have two different classes and the class `0` with frequency being 549 is more common than another one `1`. The description file tells us that the value `1` and `0` stand for whether the passenger survived or not, respectively. We can read that 549 passengers among these 891 did not make it while the rest 342 successfully survived eventually.\n",
    "\n",
    "For variable **Pclass**, we have three different classes and the class `3` with frequency being 491 is the most common one. We can got from the description file that the value `1`, `2` and `3` indicate `First`, `Second` and `Third` ticket class, respectively, which means that most passengers of these 891 records belong to the third class.\n",
    "\n",
    "For variable **Sex**, we have two different classes and the class `male` with frequency being 577 is more common than another class `female`. This tells us that 577 of the 891 passengers are males while the rest 314 passengers are females.\n",
    "\n",
    "For variable **Ticket**, we have 681 different classes among the 891 observations. This indicates that the frequency of most classes contain very few passengers or even only one. This one is basically like those two **PassengerId** and **Name** which we have discussed in the introduction part since very few of them contain duplicate values.\n",
    "\n",
    "For variable **Cabin**, we have 147 different classes among the 204 valid records among all 891 observations. Like the previous variable, very few lines of this variable contains duplicate values, which makes it almost a primary key. **Cabin** among these six variables is the only one which contains missing values and actually 77% of the values of this variable is missing. \n",
    "\n",
    "For variable **Embarked**, we have three different classes and the class `S` with frequency being 644 is the most common one. The description file says that the value `C`, `Q` and `S` represent `Cherbourg`, `Queenstown` and `Southampton`, respectively. It shows which port did the passenger use to board Titanic. 2 records of the total 891 are missing or invalid values.\n",
    "\n",
    "### 3.2 Data Visualization\n",
    "\n",
    "Here, we will use bar plot to help us visualize these variables. The variable **Ticket** and **Cabin** will not be visualized here because of their almost no-duplicate-value property. Barplot looks like histogram but is not equal to histogram, because barplot is used for categorical variables while histogram is used for continuous ones."
   ]
  },
  {
   "cell_type": "code",
   "execution_count": 8,
   "metadata": {},
   "outputs": [
    {
     "name": "stdout",
     "output_type": "stream",
     "text": [
      "The frequency table of variable Survived.\n",
      "Yes    342\n",
      "No     549\n",
      "Name: Survived, dtype: int64\n"
     ]
    },
    {
     "data": {
      "image/png": "[encoded data removed]",
      "text/plain": [
       "<matplotlib.figure.Figure at 0xb65f794a8>"
      ]
     },
     "metadata": {},
     "output_type": "display_data"
    },
    {
     "name": "stdout",
     "output_type": "stream",
     "text": [
      "The frequency table of variable Pclass.\n",
      "1st    216\n",
      "2nd    184\n",
      "3rd    491\n",
      "Name: Pclass, dtype: int64\n"
     ]
    },
    {
     "data": {
      "image/png": "[encoded data removed]",
      "text/plain": [
       "<matplotlib.figure.Figure at 0xb65e7afd0>"
      ]
     },
     "metadata": {},
     "output_type": "display_data"
    },
    {
     "name": "stdout",
     "output_type": "stream",
     "text": [
      "The frequency table of variable Sex.\n",
      "female    314\n",
      "male      577\n",
      "Name: Sex, dtype: int64\n"
     ]
    },
    {
     "data": {
      "image/png": "[encoded data removed]",
      "text/plain": [
       "<matplotlib.figure.Figure at 0xb65faac88>"
      ]
     },
     "metadata": {},
     "output_type": "display_data"
    },
    {
     "name": "stdout",
     "output_type": "stream",
     "text": [
      "The frequency table of variable Embarked.\n",
      "Queenstown      77\n",
      "Cherbourg      168\n",
      "Southampton    644\n",
      "Name: Embarked, dtype: int64\n"
     ]
    },
    {
     "data": {
      "image/png": "[encoded data removed]",
      "text/plain": [
       "<matplotlib.figure.Figure at 0xb65ffffd0>"
      ]
     },
     "metadata": {},
     "output_type": "display_data"
    }
   ],
   "source": [
    "## Print the frequency table and barplot of these variables\n",
    "for var in ['Survived', 'Pclass', 'Sex', 'Embarked']:\n",
    "    print(\"The frequency table of variable {}.\".format(var))\n",
    "    print(titanic[var].value_counts(sort = False))\n",
    "    Barplot(var)"
   ]
  },
  {
   "cell_type": "markdown",
   "metadata": {},
   "source": [
    "The barplots and frequency tables offer additional information that we did not obtain from the descriptive statistics of categorical variables. Apart from the most common class of the variable, we are able to know the frequency of every class of the corresponding variable.\n",
    "\n",
    "## 4. Multiple-variable Exploration\n",
    "\n",
    "**Question 5:** We are interested in what features may be correlated with survival. From the movie, we can learn that `kids` and `ladies` have the first priority to board the lifeboats. In this part, we would like to see if these are true in our dataset and if there are some other features that may be related with survival, too.\n",
    "\n",
    "### 4.1 Women and Children Frist?\n",
    "\n",
    "Here, we would like to take a look at variable `Age` and `Sex`. From the Titanic movie, we know that women and children had the first priority to board the lifeboats of Titanic. Statistics can help us find out if we truly should show our respect to those gentlemen who chose to be left behind, or it's just a movie.\n",
    "\n",
    "First, I would like to define **children** to be the people who were not older than 14-years-old when this dataset were recorded, and **women** to be the people whose sex was recorded as female. We would like to use contingency table to see their correlationship.\n",
    "\n",
    "We know that variable **Age** contains missing values. We would like to perform pairwise deletion when we perform any multiple variable exploration related with it."
   ]
  },
  {
   "cell_type": "code",
   "execution_count": 9,
   "metadata": {},
   "outputs": [
    {
     "name": "stdout",
     "output_type": "stream",
     "text": [
      "Contingency Table of Children vs Survival:\n",
      "Survived   No  Yes  All\n",
      "Children               \n",
      "No        392  245  637\n",
      "Yes        32   45   77\n",
      "All       424  290  714\n",
      "The Chi Square value is 11.37 with 4 degrees of freedom. The p_value is 0.0227. \n",
      "\n",
      "Contingency Table of Sex vs Survival:\n",
      "Survived   No  Yes  All\n",
      "Sex                    \n",
      "female     81  233  314\n",
      "male      468  109  577\n",
      "All       549  342  891\n",
      "The Chi Square value is 263.05 with 4 degrees of freedom. The p_value is 0.0000. \n",
      "\n"
     ]
    }
   ],
   "source": [
    "## Build a new variable Children\n",
    "titanic['Children'] = np.where(titanic[\"Age\"] <= 14, \"Yes\",\n",
    "                               np.where(titanic[\"Age\"] > 14, \"No\", None))\n",
    "## Print the contingency table of variables vs Survival\n",
    "## Chi Square Statistic\n",
    "for var in [\"Children\", \"Sex\"]:\n",
    "    print(\"Contingency Table of {} vs Survival:\".format(var))\n",
    "    table = pd.crosstab(titanic[var], titanic[\"Survived\"], margins = True)\n",
    "    print(table)\n",
    "    chi_sq = ss.chi2_contingency(table)\n",
    "    print(\"The Chi Square value is {:.2f} with {:d} degrees of freedom. The p_value is {:.4f}.\".format(\n",
    "    chi_sq[0], chi_sq[2], chi_sq[1]), \"\\n\")"
   ]
  },
  {
   "cell_type": "markdown",
   "metadata": {},
   "source": [
    "From the first table of **Kids vs Survival**, we can read that we have 77 children among our 891 observations. 45 (58.44%) of them survived successfully while the rest 32 (41.56%) did not make it, which indicates that the survival rates are slightly greater than a half. For those passengers who are older than 14-years-old, the rates of survival and not are 36.49 and 63.51%, respectively. Additionally, the p value of our Chi Square statistic is 0.0063 which is less than 0.05, which means that we are confident to say that these variables are strongly associated.\n",
    "\n",
    "From the second table of **Sex vs Survival**, we read that 314 of total 891 observations were females. 233 (74.20%) of them survived while 81 (25.80%) did not. The rates of survival and not for male passengers are 18.89% and 81.11%, respectively. Like the previous part, the p value of our Chi Square statistic is much less than 0.05. We are also confident to say that these two variables are strongly associaetd.\n",
    "\n",
    "The comparison shows that women and passengers who are not older than 14-years-old's chances of survival are much higher than those of men and those who are older than 14-years-old. In addition to this, we can also notice the existence of overlapping since people's sex and age are not mutually exclusive. Hence, I also would like to find the survival rate of people who belong to \"women and children\" and that of people who do not belong to."
   ]
  },
  {
   "cell_type": "code",
   "execution_count": 10,
   "metadata": {},
   "outputs": [
    {
     "name": "stdout",
     "output_type": "stream",
     "text": [
      "Contingency Table of Women or Children vs Survival:\n",
      "Survived   No  Yes  All\n",
      "WorC                   \n",
      "No        342   72  414\n",
      "Yes        99  254  353\n",
      "All       441  326  767\n",
      "The Chi Square value is 232.12 with 4 degrees of freedom. The p_value is 0.0000.\n"
     ]
    }
   ],
   "source": [
    "## Create new variable WorC (Women and Children First)\n",
    "titanic[\"WorC\"] = np.where((titanic['Children'] == \"Yes\") | (titanic['Sex'] == \"female\"), \"Yes\",\n",
    "                           np.where((titanic[\"Children\"] == \"No\") & (titanic['Sex'] == \"male\"), \"No\", None))\n",
    "## Print the contingency table\n",
    "## Chi Square Statistic\n",
    "print(\"Contingency Table of Women or Children vs Survival:\")\n",
    "WorC_vs_Sur = pd.crosstab(titanic[\"WorC\"], titanic[\"Survived\"], margins = True)\n",
    "print(WorC_vs_Sur)\n",
    "Chi_Sq = ss.chi2_contingency(WorC_vs_Sur)\n",
    "print(\"The Chi Square value is {:.2f} with {:d} degrees of freedom. The p_value is {:.4f}.\".format(\n",
    "    Chi_Sq[0], Chi_Sq[2], Chi_Sq[1]))"
   ]
  },
  {
   "cell_type": "markdown",
   "metadata": {},
   "source": [
    "The contingency table above show that 254 (71.95%) among the 353 passengers who are women or children survived eventually while only 88 (16.36%) among 538 passengers who are neither women nor children made it. We are pretty confident to say that these passengers who were on Titanic did follow the \"Women and Children First\" rule. Apart from the contingency table, our Chi Square statistic and its corresponding p value which is much less than 0.05 also indicate the association between these two variables.\n",
    "\n",
    "We should notice that there are several observations which contain missing **Age** value but its **Sex** value is \"female\". We would not delete those observations since they still belong to the group of \"Women and Children\".\n",
    "\n",
    "Those gentlemen and people who belong to \"Women and Children\" but chose to give up their lives for others truly deserve our respect.\n",
    "\n",
    "### 4.2 How about other features?\n",
    "\n",
    "In addition to Sex and Age, we also have some other features in our dataset. In the stereotypical thoughts, those people who are in different **classes**, such as first class passengers of XXX Airlines, usually are always getting a better service. In this case, the service might be the priority of boarding the lifeboats. Here, we would like to see if those people who purchased tickets of different classes also faced different boarding lifeboat priority when that transportation disaster happened."
   ]
  },
  {
   "cell_type": "code",
   "execution_count": 11,
   "metadata": {},
   "outputs": [
    {
     "name": "stdout",
     "output_type": "stream",
     "text": [
      "Contingency Table of Pclass vs Survival:\n",
      "Survived   No  Yes  All\n",
      "Pclass                 \n",
      "1st        80  136  216\n",
      "2nd        97   87  184\n",
      "3rd       372  119  491\n",
      "All       549  342  891\n",
      "The Chi Square value is 102.89 with 6 degrees of freedom. The p_value is 0.0000.\n"
     ]
    }
   ],
   "source": [
    "## Print the contingency table\n",
    "## Chi Square Statistic\n",
    "print(\"Contingency Table of Pclass vs Survival:\")\n",
    "Pclass_vs_Sur = pd.crosstab(titanic[\"Pclass\"], titanic[\"Survived\"], margins = True)\n",
    "print(Pclass_vs_Sur)\n",
    "Chi_Sq = ss.chi2_contingency(Pclass_vs_Sur)\n",
    "print(\"The Chi Square value is {:.2f} with {:d} degrees of freedom. The p_value is {:.4f}.\".format(\n",
    "    Chi_Sq[0], Chi_Sq[2], Chi_Sq[1]))"
   ]
  },
  {
   "cell_type": "markdown",
   "metadata": {},
   "source": [
    "Here, we can read that both contingency table and the corresponding Chi Square statistic tell us that these two variables are associated. *More than a half* of passengers from 1st class, *slightly less than a half* of passengers from 2nd class, and *only one fourth* of passengers from 3rd class survived.\n",
    "\n",
    "Indeed, we can clearly see the different survival rates among different classes. However, the result may be prejudical because it does not exactly indicate that on Titanic those passengers were treated in different ways, or lives of passengers who purchased 3rd class tickets were less valuable. This may also result from the different locations of different classes, etc. Additional reasearch must be done.\n",
    "\n",
    "### 4.3 Additional Analysis\n",
    "\n",
    "In the previous part, we manually define people whose **Age** is not older than 14 are \"Children\". I personally think this cutoff is a little subjective. Here, I would like to concentrate the variable **Age** directly. Descriptive statistics, histogram and boxplot will be used here."
   ]
  },
  {
   "cell_type": "code",
   "execution_count": 12,
   "metadata": {},
   "outputs": [
    {
     "name": "stdout",
     "output_type": "stream",
     "text": [
      "Descriptive Statistics: level No of variable Age:\n",
      "count    424.000000\n",
      "mean      30.626179\n",
      "std       14.172110\n",
      "min        1.000000\n",
      "25%       21.000000\n",
      "50%       28.000000\n",
      "75%       39.000000\n",
      "max       74.000000\n",
      "Name: Age, dtype: float64 \n",
      "\n",
      "Descriptive Statistics: level Yes of variable Age:\n",
      "count    290.000000\n",
      "mean      28.343690\n",
      "std       14.950952\n",
      "min        0.420000\n",
      "25%       19.000000\n",
      "50%       28.000000\n",
      "75%       36.000000\n",
      "max       80.000000\n",
      "Name: Age, dtype: float64 \n",
      "\n"
     ]
    },
    {
     "data": {
      "image/png": "[encoded data removed]",
      "text/plain": [
       "<matplotlib.figure.Figure at 0xb64dc23c8>"
      ]
     },
     "metadata": {},
     "output_type": "display_data"
    },
    {
     "data": {
      "image/png": "[encoded data removed]",
      "text/plain": [
       "<matplotlib.figure.Figure at 0xb65e38f60>"
      ]
     },
     "metadata": {},
     "output_type": "display_data"
    }
   ],
   "source": [
    "## This function is used for print descriptive statistics, drawing boxplot and histogram\n",
    "## based on different Survival values\n",
    "def Cont_Survival(var):\n",
    "    x, y = [], []\n",
    "    for i, j in titanic[var].groupby(titanic.Survived):\n",
    "        y.append(j.dropna().tolist())\n",
    "        x.append(i)\n",
    "        print(\"Descriptive Statistics: level {} of variable {}:\".format(i, var))\n",
    "        print(j.dropna().describe(), \"\\n\")\n",
    "    plt.boxplot(y, labels = x)\n",
    "    plt.title(\"Boxplot of {} (Not survived vs survived)\".format(var))\n",
    "    plt.xlabel(\"Survival\")\n",
    "    plt.ylabel(var)\n",
    "    plt.show()\n",
    "    plt.hist(y, 30, label = x, normed = True)\n",
    "    plt.legend(loc = \"upper right\")\n",
    "    plt.title(\"Histogram of {} (Not survived vs survived)\".format(var))\n",
    "    plt.xlabel(var)\n",
    "    plt.ylabel(\"Density\")\n",
    "    plt.show()\n",
    "\n",
    "Cont_Survival('Age')"
   ]
  },
  {
   "cell_type": "markdown",
   "metadata": {},
   "source": [
    "The descriptive statistics show that the five summary statistics and mean values are not obviously different from each other. And the same time, the boxplot basically tells the same story. But in the previous parts, we have learnt that only small proportion of passengers are not older than 14-years-old. Hence, we would like to dig a little bit deeper to see the histogram here.\n",
    "\n",
    "As what the legend lists, color orange indicates survived passengers while color blue indicates passengers who died in that accident. We can see that the general trend of the two distributions are basically alike. When we select x-axis lower than 15, the length of orange bars are always longer than the blue bars, which indeed tells us that among the passengers who survived, a large proportion of them are very young.\n",
    "\n",
    "## 5. Summary\n",
    "### 5.1 Question reviewing\n",
    "\n",
    "In this part, I would like to summarize the questions which I asked and answers that I successfully found.\n",
    "\n",
    "**Question 1:**\n",
    "\n",
    "How many observations and variables in our dataset? For the variables, what is the type of each variable, such as, continuous, discrete, etc?\n",
    "\n",
    "**Answer 1:**\n",
    "\n",
    "This dataset contains 891 observations and 12 variables.  \n",
    "Continuous variables: Age, Fare  \n",
    "Discrete variables: SibSp, Parch  \n",
    "Categorical variables: Survived, Pclass, Sex, Cabin, Ticket, Embarked  \n",
    "Primary keys: PassengerId, Name\n",
    "\n",
    "**Question 2:**\n",
    "\n",
    "Is there any invalid or missing value in our dataset? If yes, what would you like to do?\n",
    "\n",
    "**Answer 2:**\n",
    "\n",
    "Variable **Age**, **Cabin** and **Embarked** contain missing or invalid data.\n",
    "\n",
    "For variable **Age**, we removed those missing records when we perform univariate exploration and used pairwise deletion when we perform multiple variable exploration. Especially, when we focus on \"Women and Children\", we notice that several observations contain missing **Age** but \"female\" **Sex** value. We would not delete those observations since they still belong to the group of \"Women and Children\".\n",
    "\n",
    "For variable **Cabin**, I did not perform any analysis related with this variable because of the amount the missing data.\n",
    "\n",
    "For variable **Embarked**, I did not do anything related with it, either.\n",
    "\n",
    "**Question 3:**\n",
    "\n",
    "What are the distributions of our numerical variables? Can I find ways to present their distributions quantatitively and visually? For example, what are the basic five number summary statistics, do those two have any missing or invalid values, etc?\n",
    "\n",
    "**Answer 3:**\n",
    "\n",
    "The numerical variables include both continuous and discrete variables. For the continuous variables, we have Age and Fare. For discrete variables, we have SibSp and Parch.\n",
    "\n",
    "The distributions of both **Age** and **Fare** are positively skewed. For variable **Age**, its middle part is slightly taller than the normal distribution that has the same mean and standard deviation. Hence, we may consider it a \"distorted\" normal distribution. For variable **Fare**, we may notice that basically it follows its normal distribution line after we performed logarithm transformation except there is one extremely tall bar.\n",
    "\n",
    "We used barplots to present variable **SibSp** and **Parch**'s distributions. We found that actually many passengers did not travel with their siblings or children. And very few passengers travered with more than 1 sibling or 2 children. Actually, this record may not be exactly true, because people may travel with their grandchildren or even great grandchildren.\n",
    "\n",
    "**Question 4:**\n",
    "\n",
    "What are the distributions of our categorical variables? Is there any variable that you think not as useful as the others? If yes, why? Do those variables have any missing or invalid records? What information can we get from their distributions.\n",
    "\n",
    "**Answer 4:**\n",
    "\n",
    "For variable **Survived**, we have two different classes and the class `No` with frequency being 549 is more common than another one `Yes` which stands for whether the passenger survived or not, respectively. We can read that 549 passengers among these 891 did not make it while the rest 342 successfully survived eventually.\n",
    "\n",
    "For variable **Pclass**, we have three different classes and the class `3rd` with frequency being 491 is the most common one. We can got from the description file that the value `1st`, `2nd` and `3rd` indicate `First`, `Second` and `Third` ticket class, respectively, which means that most passengers of these 891 records belong to the third class.\n",
    "\n",
    "For variable **Sex**, we have two different classes and the class `male` with frequency being 577 is more common than another class `female`. This tells us that 577 of the 891 passengers are males while the rest 314 passengers are females.\n",
    "\n",
    "For variable **Ticket**, we have 681 different classes among the 891 observations. This indicates that the frequency of most classes contain very few passengers or even only one. This one is basically like those two **PassengerId** and **Name** which we have discussed in the introduction part since very few of them contain duplicate values.\n",
    "\n",
    "For variable **Cabin**, we have 147 different classes among the 204 valid records among all 891 observations. Like the previous variable, very few lines of this variable contains duplicate values, which makes it almost a primary key. **Cabin** among these six variables is the only one which contains missing values and actually 77% of the values of this variable is missing. \n",
    "\n",
    "For variable **Embarked**, we have three different classes and the class `Southampton` with frequency being 644 is the most common one. The three classes `Cherbourg`, `Queenstown` and `Southampton` show us which port did the passenger use to board Titanic.\n",
    "\n",
    "**Question 5:**\n",
    "\n",
    "We are interested in what features may be correlated with survival. From the movie, we can learn that `kids` and `ladies` have the first priority to board the lifeboats. In this part, we would like to see if these are true in our dataset and if there are some other features that may be related with survival, too.\n",
    "\n",
    "**Answer 5:**\n",
    "\n",
    "The variable **Age** and **Sex** do associate with variable **Survived**. We set 14-years-old to be the cutoff of children and non-children. We found that the survival rate of children is higher than non-children, the survival rate of females is higher than males, and the survival rate of \"Women and Children\" is higher than non-\"Women and Children\".\n",
    "\n",
    "In addition to that, we also notice that the variable **Pclass** is associated with **Survived**, as well. The survival rates of 1st, 2nd and 3rd passengers are going down monotonically. However, there may still exist some other reasons like the location of passengers from different classes which lead to this association.\n",
    "\n",
    "If we remove the cutoff that we set and use variable **Age** directly, we would still notice that the proportion of young people among passengers who survived is higher than the proportion of young people among passenger who did not make it.\n",
    "\n",
    "### 5.2 Possible future work\n",
    "\n",
    "There are some variables that I did not mainly focus on. For example, variable **Name** is treated as a primary key here. If possible, we can try to find some dataset from other sources and merge them based on variable **Name** to see if we can find some other interesting stories.\n",
    "\n",
    "There are some other variables that may be related with each other, and we may ask additional interesting questions. For example, we would like to explore variable **Pclass** and **Fare**.  Here is the question that I would like to ask. Did passengers from the same ticket class spend the same or approximately same amount of money? If no, are those ranges reasonable or understandable?\n",
    "\n",
    "### 5.3 Limitation\n",
    "\n",
    "From the description file, we know that this dataset contains only 891 out of 2224 passengers. We have no idea how this sample was generated from the population, which means that our conclusion here may not be able to represent our population. For example, if this sample is generated because all these passengers' tickets were purchased from the same travel agent, I should doubt the conclusion that we had here.\n",
    "\n",
    "From the previous parts, we notice that three variables **Age**, **Cabin** and **Embarked** contain missing or invalid values. For variable **Embarked**, only 2 of them is missing. Under this situation, removing those two observations should be fine. However, for variable **Age**, 177 out of 891 are missing. Here, removing them may give us a totally different conclusion even if in this project I still used pairwise deletion. Apart from deletion, we may also consider filling missing values with mean, median, or regression prediction.\n",
    "\n",
    "## Reference\n",
    "\n",
    "- Suites and Cabins for Passengers on the Titanic - dummies, http://www.dummies.com/education/history/suites-and-cabins-for-passengers-on-the-titanic/\n",
    "\n",
    "- Women and Children First, https://en.wikipedia.org/wiki/Women_and_children_first\n",
    "\n",
    "- Matplotlib, http://matplotlib.org/users/pyplot_tutorial.html#working-with-multiple-figures-and-axes"
   ]
  }
 ],
 "metadata": {
  "kernelspec": {
   "display_name": "Python 3",
   "language": "python",
   "name": "python3"
  },
  "language_info": {
   "codemirror_mode": {
    "name": "ipython",
    "version": 3
   },
   "file_extension": ".py",
   "mimetype": "text/x-python",
   "name": "python",
   "nbconvert_exporter": "python",
   "pygments_lexer": "ipython3",
   "version": "3.6.1"
  }
 },
 "nbformat": 4,
 "nbformat_minor": 2
}
